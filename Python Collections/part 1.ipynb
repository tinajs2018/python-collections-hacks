{
 "cells": [
  {
   "cell_type": "code",
   "execution_count": 8,
   "metadata": {},
   "outputs": [
    {
     "data": {
      "text/plain": [
       "2"
      ]
     },
     "execution_count": 8,
     "metadata": {},
     "output_type": "execute_result"
    }
   ],
   "source": [
    "def match(lst,x):\n",
    "    count=0\n",
    "    for i in lst:\n",
    "        if i==x:\n",
    "            count+=1\n",
    "    return count\n",
    "lst='PPer'\n",
    "x='P'\n",
    "match(lst,x)"
   ]
  },
  {
   "cell_type": "code",
   "execution_count": 11,
   "metadata": {},
   "outputs": [
    {
     "data": {
      "text/plain": [
       "2"
      ]
     },
     "execution_count": 11,
     "metadata": {},
     "output_type": "execute_result"
    }
   ],
   "source": [
    "#Counting  the number of occurances\n",
    "def candi(x,y):\n",
    "    count=0\n",
    "    for i in x:\n",
    "        if i==y:\n",
    "            count+=1\n",
    "    return count\n",
    "x='the power of  fighting'\n",
    "y='o'\n",
    "candi(x,y)\n",
    "            \n",
    "            \n"
   ]
  },
  {
   "cell_type": "code",
   "execution_count": 19,
   "metadata": {},
   "outputs": [
    {
     "data": {
      "text/plain": [
       "4"
      ]
     },
     "execution_count": 19,
     "metadata": {},
     "output_type": "execute_result"
    }
   ],
   "source": [
    "from collections import Counter\n",
    "data='that the deal i wanna be good but i aslo want to earn'\n",
    "z='o'\n",
    "results=Counter(data)\n",
    "results['o']"
   ]
  },
  {
   "cell_type": "code",
   "execution_count": 4,
   "metadata": {},
   "outputs": [
    {
     "name": "stdout",
     "output_type": "stream",
     "text": [
      "super\n",
      "Word with maximum frequency : super\n"
     ]
    }
   ],
   "source": [
    "from collections import defaultdict\n",
    "test=['Dont kmow what to do yet am  yet super coding in coding  super  and dont  super have a  super source of income yet ']\n",
    "temp=defaultdict(int)\n",
    "for i in test:\n",
    "    for lot in i.split( ):\n",
    "        temp[lot]+=1\n",
    "res=max(temp,key=temp.get)\n",
    "        \n",
    "print(str(res))\n",
    "\n",
    "print(\"Word with maximum frequency : \" + str(res))\n"
   ]
  },
  {
   "cell_type": "code",
   "execution_count": 5,
   "metadata": {},
   "outputs": [
    {
     "name": "stdout",
     "output_type": "stream",
     "text": [
      "super\n"
     ]
    }
   ],
   "source": [
    "# from statistics import mode\n",
    "# for i in test:\n",
    "#     for lots in i.split():\n",
    "#         res=mode(lots)\n",
    "# print(res)\n",
    "\n",
    "from statistics import mode\n",
    "for i in test:\n",
    "    data=i.split()\n",
    "    res=mode(data)\n",
    "  \n",
    "print(res)\n"
   ]
  },
  {
   "cell_type": "code",
   "execution_count": 12,
   "metadata": {},
   "outputs": [
    {
     "name": "stdout",
     "output_type": "stream",
     "text": [
      "Counter({'d': 1})\n",
      "Counter({'d': 1})\n"
     ]
    }
   ],
   "source": [
    "#Write a Python program to find the occurrences of 10 most common words in a given text.\n",
    "from collections import Counter\n",
    "dance='It takes more than learning to make some  good money in this wondeerful world'\n",
    "for i in dance:\n",
    "     for devi in i.split():\n",
    "        res=Counter(devi)\n",
    "print(res)\n",
    "\n",
    "from collections import Counter\n",
    "dance='It takes more than learning to make some  good money in this wondeerful world'\n",
    "for i in dance:\n",
    "    data=i.split()\n",
    "    res=Counter(data)\n",
    "print(res)\n"
   ]
  },
  {
   "cell_type": "code",
   "execution_count": 17,
   "metadata": {},
   "outputs": [
    {
     "name": "stdout",
     "output_type": "stream",
     "text": [
      "[('It', 1), ('takes', 1), ('more', 1), ('than', 1), ('learning', 1), ('to', 1), ('make', 1), ('some', 1), ('good', 1), ('money', 1)]\n"
     ]
    }
   ],
   "source": [
    "from collections import Counter\n",
    "import re\n",
    "data=re.findall('\\w+',dance)\n",
    "print(Counter(data).most_common(10))\n"
   ]
  },
  {
   "cell_type": "code",
   "execution_count": 21,
   "metadata": {},
   "outputs": [
    {
     "name": "stdout",
     "output_type": "stream",
     "text": [
      "PLease what your line i love   the idea of achieving my dream and\n",
      "Counter({'i': 1, 'love': 1, 'the': 1, 'idea': 1, 'of': 1, 'achieving': 1, 'my': 1, 'dream': 1, 'and': 1})\n"
     ]
    }
   ],
   "source": [
    "#Write a Python program that accept some words and count the number \n",
    "#of distinct words. Print the number of distinct words and number of occurrences for \n",
    "#each distinct word according to their appearance\n",
    "data=input('PLease what your line')\n",
    "word=data.split()\n",
    "res1=Counter(word)\n",
    "print(res1)"
   ]
  },
  {
   "cell_type": "code",
   "execution_count": 25,
   "metadata": {},
   "outputs": [
    {
     "name": "stdout",
     "output_type": "stream",
     "text": [
      "{'cate': 3, 'mumbi': 4, 'caro': 6}\n",
      "None\n"
     ]
    }
   ],
   "source": [
    "data={'cate':3,'mumbi':4,  'caro':6}\n",
    "print(data)\n",
    "print(data.clear())"
   ]
  },
  {
   "cell_type": "code",
   "execution_count": 26,
   "metadata": {},
   "outputs": [
    {
     "name": "stdout",
     "output_type": "stream",
     "text": [
      "{}\n"
     ]
    }
   ],
   "source": [
    "text = {1: \"geeks\", 2: \"for\"}\n",
    "  \n",
    "text.clear()\n",
    "print(text)"
   ]
  },
  {
   "cell_type": "code",
   "execution_count": null,
   "metadata": {},
   "outputs": [],
   "source": []
  }
 ],
 "metadata": {
  "kernelspec": {
   "display_name": "Python 3",
   "language": "python",
   "name": "python3"
  },
  "language_info": {
   "codemirror_mode": {
    "name": "ipython",
    "version": 3
   },
   "file_extension": ".py",
   "mimetype": "text/x-python",
   "name": "python",
   "nbconvert_exporter": "python",
   "pygments_lexer": "ipython3",
   "version": "3.7.6"
  }
 },
 "nbformat": 4,
 "nbformat_minor": 4
}
